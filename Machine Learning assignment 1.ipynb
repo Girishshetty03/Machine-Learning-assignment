{
 "cells": [
  {
   "cell_type": "markdown",
   "id": "fec23901",
   "metadata": {},
   "source": [
    "__1.__ What does one mean by the term \"machine learning\" ?\n",
    "\n",
    "Ans: Machine learning Popularly known as ML is a branch of Artificial Intelligence (AI) that allows software applications to become more accurate at predicting outcomes without being explicitly programmed to do so. Machine learning algorithms use historical data as input to predict new output values."
   ]
  },
  {
   "cell_type": "markdown",
   "id": "600ff602",
   "metadata": {},
   "source": [
    "__2.__ Can you think of 4 distinct types of issues where it shines ?\n",
    "\n",
    "*Image Recognition\n",
    "\n",
    "*Speech Recognition\n",
    "\n",
    "*Traffic Prediction\n",
    "\n",
    "*Product Recommendations \n"
   ]
  },
  {
   "cell_type": "markdown",
   "id": "7c339ba8",
   "metadata": {},
   "source": [
    "__3.__ What is a labeled training set, and how does it work ?\n",
    "\n",
    "Ans: You split up the data containing known response variable values into two pieces. The training set is used to train the algorithm, and then you use the trained model on the test set to predict the response variable values that are already known."
   ]
  },
  {
   "cell_type": "markdown",
   "id": "ee208d37",
   "metadata": {},
   "source": [
    "__4.__ What are the two most important tasks that are supervised ?\n",
    "\n",
    "Ans: The two most common supervised learning tasks are __Regression__ and __Classification__."
   ]
  },
  {
   "cell_type": "markdown",
   "id": "1e513b8e",
   "metadata": {},
   "source": [
    "__5.__ Can you think of four examples of unsupervised tasks ?\n",
    "\n",
    "Ans: Four common Unsupervised Tasks included Clustering, Visualization, Dimensionality Reduction, and Association Rule Learning."
   ]
  },
  {
   "cell_type": "markdown",
   "id": "bf682091",
   "metadata": {},
   "source": [
    "__6.__ State the machine learning model that would be best to make a robot walk through various unfamiliar terrains ?\n",
    "\n",
    "Ans: The best Machine Learning algorithm to allow a Robot to walk in unfamiliar terrains is 'Reinforced Learning', where the robot can learn from response of the terrain to optimize itself."
   ]
  },
  {
   "cell_type": "markdown",
   "id": "5d8fbc70",
   "metadata": {},
   "source": [
    "__7.__ Which algorithm will you use to divide your customers into different groups ?\n",
    "\n",
    "Ans: The Best Algorithm to Segment Customers into different groups is either Supervised Learning (if the groups have known labels) or Unsupervised Learning (if there are no group labels)."
   ]
  },
  {
   "cell_type": "markdown",
   "id": "8a44f540",
   "metadata": {},
   "source": [
    "__8.__ Will you consider the problem of spam detection to be a supervised or unsupervised learning problem ?\n",
    "\n",
    "Ans: Spam detection is a Supervised Machine Learning problem because the labels are known (spam or no spam)."
   ]
  },
  {
   "cell_type": "markdown",
   "id": "a1e8c556",
   "metadata": {},
   "source": [
    "__9.__ What is the concept of an online learning system ?\n",
    "\n",
    "Ans: Online learning system is a learning system in which the machine learns continously, as data is given in small streams continuously."
   ]
  },
  {
   "cell_type": "markdown",
   "id": "d7cfa9e6",
   "metadata": {},
   "source": [
    "__10.__ What is out-of-core learning, and how does it differ from core learning ?\n",
    "\n",
    "Ans: Out-of-core learning system is a system that can handle data that cannot fit into your computer memory. It uses online learning system to feed data in small bits."
   ]
  },
  {
   "cell_type": "markdown",
   "id": "882ed53c",
   "metadata": {},
   "source": [
    "__11.__ What kind of learning algorithm makes predictions using a similarity measure ?\n",
    "\n",
    "Ans: Learning algorithm that relies on a similarity measure to make predictions is Instance Based Algorithm."
   ]
  },
  {
   "cell_type": "markdown",
   "id": "78624f62",
   "metadata": {},
   "source": [
    "__13.__ What are the criteria that model-based learning algorithms look for? What is the most popular method they use to achieve success? What method do they use to make predictions ?\n",
    "\n",
    "Ans: Model based learning algorithm search for the optimal value of parameters in a model that will give the best results for the new instances. We often use a cost function or similar to determine what the parameter value has to be in order to minimize the function. The model makes prediction by using the value of the new instance and the parameters in its function.\n",
    "\n",
    "__14__ Can you name four of the most important Machine Learning challenges ?\n",
    "\n",
    "Ans: Four main challenges in Machine Learning include the following:\n",
    "\n",
    "Overfitting the Data (using a model too complicated)\n",
    "Underfitting the data (using a simple model)\n",
    "Lacking in Data\n",
    "Non Representative Data.\n",
    "\n",
    "__15.__ What happens if the model performs well on the training data but fails to generalize the results to new situations? Can you think of three different options ?\n",
    "\n",
    "Ans: If the model performs poorly to new instances, then it has overfitted on the training data. To solve this, we can do any of the following three:\n",
    "\n",
    "Get more data\n",
    "Implement a simpler model\n",
    "Eliminate outliers or noise from the existing data set.\n",
    "\n",
    "__16.__ What exactly is a test set, and why would you need one ?\n",
    "\n",
    "Ans: Test set is a set to test your model (fit using training data) to see how it performs.Test set is necessary to determine how good (or bad) a model performs.\n",
    "\n",
    "__17.__ What is a validation set's purpose ?\n",
    "\n",
    "Ans: Validation set is a set used to compare between different training models.\n",
    "\n",
    "__18.__What precisely is the train-dev kit, when will you need it, how do you put it to use ?\n",
    "\n",
    "Ans: Cross-validation is a tool to compare models without needing a separate validation set. It is preferred over validation set because we can save from breaking of part of the training set to create a validation set, as having more data is valuable regardless.\n",
    "\n",
    "19.What could go wrong if you use the test set to tune hyperparameters ?\n",
    "\n",
    "Ans: If you tune hyperparameters using the test sets, then it may not perform well on the out-of-sample data because the model is tuned just for that specific set."
   ]
  }
 ],
 "metadata": {
  "kernelspec": {
   "display_name": "Python 3 (ipykernel)",
   "language": "python",
   "name": "python3"
  },
  "language_info": {
   "codemirror_mode": {
    "name": "ipython",
    "version": 3
   },
   "file_extension": ".py",
   "mimetype": "text/x-python",
   "name": "python",
   "nbconvert_exporter": "python",
   "pygments_lexer": "ipython3",
   "version": "3.9.12"
  }
 },
 "nbformat": 4,
 "nbformat_minor": 5
}
